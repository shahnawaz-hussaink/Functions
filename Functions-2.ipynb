{
  "nbformat": 4,
  "nbformat_minor": 0,
  "metadata": {
    "colab": {
      "provenance": []
    },
    "kernelspec": {
      "name": "python3",
      "display_name": "Python 3"
    },
    "language_info": {
      "name": "python"
    }
  },
  "cells": [
    {
      "cell_type": "markdown",
      "source": [
        "**Theory Questions:**"
      ],
      "metadata": {
        "id": "L47Tu-JHTAnk"
      }
    },
    {
      "cell_type": "markdown",
      "source": [
        "Q1. What is the difference between a function and a method in Python?\n",
        "Answer :\n",
        "Function: A block of reusable code defined using def or lambda.\n",
        "Method: A function that belongs to an object (usually part of a class).\n",
        "Example:\n",
        "\n",
        "Functions\n",
        "\n",
        "def greet(name):\n",
        "    return \"Hello \" + name\n",
        "    \n",
        "Methods\n",
        "\n",
        "s = \"hello\"\n",
        "print(s.upper())  # upper() is a string method"
      ],
      "metadata": {
        "id": "c3kykwivTE4N"
      }
    },
    {
      "cell_type": "markdown",
      "source": [
        "Q2. Explain the concept of function arguments and parameters in Python.\n",
        "Answer:\n",
        "\n",
        "Parameters are variables listed in the function definition.\n",
        "Arguments are the actual values passed when calling the function.\n",
        "Example:\n",
        "\n",
        "def add(a, b):  # a and b are parameters\n",
        "    return a + b\n",
        "\n",
        "print(add(2, 3))  # 2 and 3 are arguments"
      ],
      "metadata": {
        "id": "hDJAx_w-cO6U"
      }
    },
    {
      "cell_type": "markdown",
      "source": [
        "Q3. What are the different ways to define and call a function in Python?\n",
        "Answer:\n",
        "\n",
        "Functions can be defined using def or lambda.\n",
        "They are called using the function name followed by parentheses.\n",
        "Example:\n",
        "\n",
        "Using def\n",
        "def square(x):\n",
        "    return x * x\n",
        "\n",
        "print(square(5))  # Calling the function\n",
        "\n",
        "Using lambda\n",
        "double = lambda x: x * 2\n",
        "print(double(4))\n"
      ],
      "metadata": {
        "id": "ZyCTrFuacROC"
      }
    },
    {
      "cell_type": "markdown",
      "source": [
        "Q4. What is the purpose of the return statement in a Python function?\n",
        "Answer:\n",
        "\n",
        "The return statement is used to send a result back to the caller and exit the function.\n",
        "Example:\n",
        "\n",
        "def multiply(a, b):\n",
        "    return a * b\n",
        "\n",
        "result = multiply(4, 5)\n",
        "print(result)"
      ],
      "metadata": {
        "id": "anhVVHmhcS8r"
      }
    },
    {
      "cell_type": "markdown",
      "source": [
        "Q5. What are iterators in Python and how do they differ from iterables?\n",
        "Answer:\n",
        "\n",
        "Iterable: Any object that can return its elements one at a time (e.g., list, tuple).\n",
        "Iterator: An object with a __next__() method that gives the next item.\n",
        "Example:\n",
        "\n",
        "lst = [1, 2, 3]\n",
        "it = iter(lst)  # it is an iterator\n",
        "print(next(it))  # 1\n",
        "print(next(it))  # 2"
      ],
      "metadata": {
        "id": "nZAM1mnkcUlZ"
      }
    },
    {
      "cell_type": "markdown",
      "source": [
        "Q6. Explain the concept of generators in Python and how they are defined.\n",
        "Answer:\n",
        "\n",
        "A generator is a special type of iterator created using a function with the yield keyword.\n",
        "It generates values one by one as needed.\n",
        "Example:\n",
        "\n",
        "def gen_numbers():\n",
        "    for i in range(3):\n",
        "        yield i\n",
        "\n",
        "g = gen_numbers()\n",
        "print(next(g))  # 0"
      ],
      "metadata": {
        "id": "R3GXfv0QcWXr"
      }
    },
    {
      "cell_type": "markdown",
      "source": [
        "Q7. What are the advantages of using generators over regular functions?\n",
        "Answer:\n",
        "\n",
        "More memory efficient\n",
        "Lazy evaluation (produces values only when needed)\n",
        "Useful for large datasets or infinite sequences\n",
        "Example:\n",
        "\n",
        "def infinite_gen():\n",
        "    i = 0\n",
        "    while True:\n",
        "        yield i\n",
        "        i += 1"
      ],
      "metadata": {
        "id": "1PpgF8HWcYDi"
      }
    },
    {
      "cell_type": "markdown",
      "source": [
        "Q8. What is a lambda function in Python and when is it typically used?\n",
        "Answer:\n",
        "\n",
        "A lambda function is an anonymous, one-line function used when a short function is needed temporarily.\n",
        "Example:\n",
        "\n",
        "square = lambda x: x * x\n",
        "print(square(4))  # 16"
      ],
      "metadata": {
        "id": "O_Oqv3a4cZyL"
      }
    },
    {
      "cell_type": "markdown",
      "source": [
        "Q9. Explain the purpose and usage of the map() function in Python.\n",
        "Answer:\n",
        "\n",
        "map() applies a function to each element of an iterable and returns a new iterator.\n",
        "Example:\n",
        "\n",
        "nums = [1, 2, 3]\n",
        "squared = list(map(lambda x: x * x, nums))\n",
        "print(squared)  # [1, 4, 9]"
      ],
      "metadata": {
        "id": "mrD3lpWWcbf1"
      }
    },
    {
      "cell_type": "markdown",
      "source": [
        "Q10. What is the difference between map(), reduce(), and filter() functions in Python?\n",
        "Answer:\n",
        "\n",
        "map() applies a function to each element.\n",
        "filter() selects elements based on a condition.\n",
        "reduce() applies a function cumulatively to reduce the iterable to one value.\n",
        "Example:\n",
        "\n",
        "from functools import reduce\n",
        "\n",
        "nums = [1, 2, 3, 4]\n",
        "\n",
        "print(list(map(lambda x: x*2, nums)))         # [2, 4, 6, 8]\n",
        "print(list(filter(lambda x: x%2==0, nums)))   # [2, 4]\n",
        "print(reduce(lambda x, y: x + y, nums))       # 10\n"
      ],
      "metadata": {
        "id": "9z0gyIIGce26"
      }
    },
    {
      "cell_type": "markdown",
      "source": [
        "11. Using pen & paper write the internal mechanism for sum operation using reduce() function on this given list: [47, 11, 42, 13]\n",
        "Ans. [Paper Image](https://drive.google.com/file/d/14_H3T7O3zAWRb36COCIVaoI8cmTzejtt/view?usp=share_link)"
      ],
      "metadata": {
        "id": "i-JQimsVfWId"
      }
    },
    {
      "cell_type": "markdown",
      "source": [
        "Practical Questions:"
      ],
      "metadata": {
        "id": "GoP5BkamgYZo"
      }
    },
    {
      "cell_type": "markdown",
      "source": [
        "Q1. Write a Python function that takes a list of numbers as input and returns the sum of all even numbers in the list.\n",
        "Answer:\n",
        "This function uses a list comprehension to filter out even numbers and then sums them using the built-in sum() function.\n",
        "\n",
        "Example:\n",
        "\n",
        "def sum_even_numbers(numbers):\n",
        "    return sum(num for num in numbers if num % 2 == 0)\n",
        "\n",
        "print(sum_even_numbers([1, 2, 3, 4, 5, 6]))  # Output: 12"
      ],
      "metadata": {
        "id": "QKsbH76JgjHD"
      }
    },
    {
      "cell_type": "markdown",
      "source": [
        "Q2. Create a Python function that accepts a string and returns the reverse of that string.\n",
        "Answer:\n",
        "The function reverses the input string using slicing ([::-1]).\n",
        "\n",
        "Example:\n",
        "\n",
        "def reverse_string(s):\n",
        "    return s[::-1]\n",
        "\n",
        "print(reverse_string(\"hello\"))  # Output: \"olleh\""
      ],
      "metadata": {
        "id": "9kr_Tsk9hYgx"
      }
    },
    {
      "cell_type": "markdown",
      "source": [
        "Q3. Implement a Python function that takes a list of integers and returns a new list containing the squares of each number.\n",
        "Answer:\n",
        "This function uses a list comprehension to square each element of the list.\n",
        "\n",
        "Example:\n",
        "\n",
        "def square_list(lst):\n",
        "    return [x ** 2 for x in lst]\n",
        "\n",
        "print(square_list([1, 2, 3, 4]))  # Output: [1, 4, 9, 16]"
      ],
      "metadata": {
        "id": "anENrEF9haPd"
      }
    },
    {
      "cell_type": "markdown",
      "source": [
        "Q4. Write a Python function that checks if a given number is prime or not from 1 to 200.\n",
        "Answer:\n",
        "The function checks for primality by dividing the number by all integers up to its square root.\n",
        "\n",
        "Example:\n",
        "\n",
        "def is_prime(n):\n",
        "    if n <= 1:\n",
        "        return False\n",
        "    for i in range(2, int(n ** 0.5) + 1):\n",
        "        if n % i == 0:\n",
        "            return False\n",
        "    return True\n",
        "\n",
        "for i in range(1, 201):\n",
        "    if is_prime(i):\n",
        "        print(i, end=\" \")"
      ],
      "metadata": {
        "id": "Ns6OHoyehd5A"
      }
    },
    {
      "cell_type": "markdown",
      "source": [
        "Q5. Create an iterator class in Python that generates the Fibonacci sequence up to a specified number of terms.\n",
        "Answer:\n",
        "An iterator class must have __iter__() and __next__() methods to produce the next term in the sequence.\n",
        "\n",
        "Example:\n",
        "\n",
        "class Fibonacci:\n",
        "    def __init__(self, max_terms):\n",
        "        self.max_terms = max_terms\n",
        "        self.a, self.b = 0, 1\n",
        "        self.count = 0\n",
        "\n",
        "    def __iter__(self):\n",
        "        return self\n",
        "\n",
        "    def __next__(self):\n",
        "        if self.count >= self.max_terms:\n",
        "            raise StopIteration\n",
        "        value = self.a\n",
        "        self.a, self.b = self.b, self.a + self.b\n",
        "        self.count += 1\n",
        "        return value\n",
        "\n",
        "fib = Fibonacci(10)\n",
        "for num in fib:\n",
        "    print(num, end=\" \")"
      ],
      "metadata": {
        "id": "rJ7s_4lVhgE0"
      }
    },
    {
      "cell_type": "markdown",
      "source": [
        "Q6. Write a generator function in Python that yields the powers of 2 up to a given exponent.\n",
        "Answer:\n",
        "This generator uses the yield statement to return each power of 2 one by one.\n",
        "\n",
        "Example:\n",
        "\n",
        "def powers_of_two(n):\n",
        "    for i in range(n + 1):\n",
        "        yield 2 ** i\n",
        "\n",
        "for power in powers_of_two(5):\n",
        "    print(power)"
      ],
      "metadata": {
        "id": "WNXAfdjhhiPp"
      }
    },
    {
      "cell_type": "markdown",
      "source": [
        "Q7. Implement a generator function that reads a file line by line and yields each line as a string.\n",
        "Answer:\n",
        "This generator opens a file and yields each line using yield.\n",
        "\n",
        "Example:\n",
        "\n",
        "def read_file_line_by_line(filename):\n",
        "    with open(filename, 'r') as file:\n",
        "        for line in file:\n",
        "            yield line.strip()\n"
      ],
      "metadata": {
        "id": "RpXW43XphlF8"
      }
    },
    {
      "cell_type": "markdown",
      "source": [
        "Q8. Use a lambda function in Python to sort a list of tuples based on the second element of each tuple.\n",
        "Answer:\n",
        "Sorting with sorted() and lambda to access the second element of each tuple.\n",
        "\n",
        "Example:\n",
        "\n",
        "data = [(1, 3), (2, 1), (4, 2)]\n",
        "sorted_data = sorted(data, key=lambda x: x[1])\n",
        "print(sorted_data)  # Output: [(2, 1), (4, 2), (1, 3)]"
      ],
      "metadata": {
        "id": "ueupAI8bhpPz"
      }
    },
    {
      "cell_type": "markdown",
      "source": [
        "Q9. Write a Python program that uses map() to convert a list of temperatures from Celsius to Fahrenheit.\n",
        "Answer:\n",
        "Use map() with a lambda function to apply the formula: (C × 9/5) + 32.\n",
        "\n",
        "Example:\n",
        "\n",
        "celsius = [0, 20, 30, 40]\n",
        "fahrenheit = list(map(lambda c: (c * 9/5) + 32, celsius))\n",
        "print(fahrenheit)"
      ],
      "metadata": {
        "id": "EgUnpf5Ihrli"
      }
    },
    {
      "cell_type": "markdown",
      "source": [
        "Q10. Create a Python program that uses filter() to remove all the vowels from a given string.\n",
        "Answer:\n",
        "filter() is used with a lambda function to exclude vowels.\n",
        "\n",
        "Example:\n",
        "\n",
        "def remove_vowels(s):\n",
        "    return ''.join(filter(lambda c: c.lower() not in 'aeiou', s))\n",
        "\n",
        "print(remove_vowels(\"Hello World\"))"
      ],
      "metadata": {
        "id": "qdKp9mq5htzd"
      }
    },
    {
      "cell_type": "markdown",
      "source": [
        "Q11. Accounting routine - Return order number and product, increase by 10 if less than 100 using lambda and map.\n",
        "Answer:\n",
        "The program uses map() and lambda to process the book orders and add 10 to total if below 100.\n",
        "\n",
        "Example:\n",
        "\n",
        "orders = [\n",
        "    [34587, \"Learning Python, Mark Lutz\", 4, 40.95],\n",
        "    [98762, \"Programming Python, Mark Lutz\", 5, 56.80],\n",
        "    [77226, \"Head First Python, Paul Barry\", 3, 32.95],\n",
        "    [88112, \"Einführung in Python3, Bernd Klein\", 3, 24.99]\n",
        "]\n",
        "\n",
        "result = list(map(\n",
        "    lambda order: (order[0], round(order[2] * order[3] + 10 if order[2] * order[3] < 100 else order[2] * order[3], 2)),\n",
        "    orders\n",
        "))\n",
        "\n",
        "print(result)"
      ],
      "metadata": {
        "id": "gdtrmsbJhxbS"
      }
    }
  ]
}